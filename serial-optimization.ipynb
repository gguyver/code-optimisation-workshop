{
 "cells": [
  {
   "cell_type": "markdown",
   "id": "8ec6f130",
   "metadata": {},
   "source": [
    "# Serial Optimization\n",
    "How do you optimise serial code? There are two main techniques that are easy go-to's for serial optimization in Python: \n",
    "1. Vectorization\n",
    "2. Memoization\n",
    "\n",
    "## Vectorization\n",
    "Because Python is an interpreted language - i.e. each line is dispatched to an interpreter program to interpret and execute - there can be a lot of overhead compared to compiled programs. Python needs to check variable types and use the correct functions for the inputs, because these are not necessarily specified. As a result, when you're using Python for large datasets or for long loops, it can pay to implement vectorization.\n",
    "\n",
    "Vectorization essentially uses compiled versions of the loop or functions. There is therefore much less overhead per operation, providing large speedups. As an added benefit, they can use Single Instruction, Multiple Data (SIMD) instructions - these allow the same instruction to be performed on multiple cells of data simultaneously, providing an even greater speedup.\n",
    "\n",
    "Consider the following examples. The first uses base Python to generate a list of integers using a for loop. The second does the same, but uses `numpy` to vectorize the calculation. The %%timeit readouts show a large speed increase in the second example."
   ]
  },
  {
   "cell_type": "code",
   "execution_count": 10,
   "id": "20a127ea",
   "metadata": {},
   "outputs": [
    {
     "name": "stdout",
     "output_type": "stream",
     "text": [
      "35.4 ms ± 232 μs per loop (mean ± std. dev. of 7 runs, 10 loops each)\n"
     ]
    }
   ],
   "source": [
    "%%timeit\n",
    "result = []\n",
    "for x in range(1_000_000):\n",
    "    result.append(x * 2)"
   ]
  },
  {
   "cell_type": "code",
   "execution_count": 6,
   "id": "7e887ef1",
   "metadata": {},
   "outputs": [],
   "source": [
    "import numpy as np"
   ]
  },
  {
   "cell_type": "code",
   "execution_count": null,
   "id": "263669b4",
   "metadata": {},
   "outputs": [
    {
     "name": "stdout",
     "output_type": "stream",
     "text": [
      "1.68 ms ± 67.7 μs per loop (mean ± std. dev. of 7 runs, 1,000 loops each)\n"
     ]
    }
   ],
   "source": [
    "%%timeit\n",
    "ints = np.arange(1_000_000)\n",
    "result_np = ints * 2"
   ]
  },
  {
   "cell_type": "code",
   "execution_count": null,
   "id": "738c52df",
   "metadata": {},
   "outputs": [],
   "source": [
    "assert result == result_np.tolist(), \"Results do not match!\""
   ]
  },
  {
   "cell_type": "code",
   "execution_count": 13,
   "id": "c5d1e2a3",
   "metadata": {},
   "outputs": [
    {
     "name": "stdout",
     "output_type": "stream",
     "text": [
      "85.4 ns ± 0.302 ns per loop (mean ± std. dev. of 7 runs, 10,000,000 loops each)\n"
     ]
    }
   ],
   "source": [
    "%timeit total = sum(range(10))"
   ]
  },
  {
   "cell_type": "code",
   "execution_count": 14,
   "id": "b90247a1",
   "metadata": {},
   "outputs": [
    {
     "name": "stdout",
     "output_type": "stream",
     "text": [
      "114 ns ± 0.737 ns per loop (mean ± std. dev. of 7 runs, 10,000,000 loops each)\n"
     ]
    }
   ],
   "source": [
    "%%timeit \n",
    "import random\n",
    "\n",
    "def func():\n",
    "    total = 0\n",
    "    for _ in range(10):\n",
    "        total += random.randint(1, 100)"
   ]
  },
  {
   "cell_type": "markdown",
   "id": "0b5f804c",
   "metadata": {},
   "source": [
    "We see a large speed increase in the second example, which uses `numpy` to vectorize the calculation.\n",
    "\n",
    "Now, try this yourself. The following code generates an array of random pairs of numbers, and calculates the Euclidean distance between them. "
   ]
  },
  {
   "cell_type": "code",
   "execution_count": 12,
   "id": "4e99ba62",
   "metadata": {},
   "outputs": [],
   "source": [
    "from math import sqrt\n",
    "from line_profiler import profile\n",
    "\n",
    "points = np.random.rand(1000, 2)\n",
    "\n",
    "@profile\n",
    "def pairwise_distances(points):\n",
    "  n = len(points)\n",
    "  distances = np.zeros((n, n))\n",
    "  for i in range(n):\n",
    "      for j in range(n):\n",
    "          distances[i, j] = sqrt((points[i, 0] - points[j, 0]) ** 2 + (points[i, 1] - points[j, 1]) ** 2)\n",
    "  return distances"
   ]
  },
  {
   "cell_type": "markdown",
   "id": "0db7166e",
   "metadata": {},
   "source": [
    "#### Q1: Profiling\n",
    "How long does it take to calculate the Euclidean distance using the provided code?"
   ]
  },
  {
   "cell_type": "code",
   "execution_count": 10,
   "id": "3e2cdd13",
   "metadata": {},
   "outputs": [
    {
     "name": "stdout",
     "output_type": "stream",
     "text": [
      "503 ms ± 1.62 ms per loop (mean ± std. dev. of 7 runs, 1 loop each)\n"
     ]
    }
   ],
   "source": [
    "%timeit pairwise_distances(points)"
   ]
  },
  {
   "cell_type": "markdown",
   "id": "bf234d88",
   "metadata": {},
   "source": [
    "#### Are there specific parts of the code that are slow?"
   ]
  },
  {
   "cell_type": "code",
   "execution_count": 14,
   "id": "4f66771f",
   "metadata": {},
   "outputs": [
    {
     "name": "stdout",
     "output_type": "stream",
     "text": [
      " "
     ]
    },
    {
     "name": "stdout",
     "output_type": "stream",
     "text": [
      "         1000671 function calls (1000661 primitive calls) in 0.635 seconds\n",
      "\n",
      "   Ordered by: internal time\n",
      "\n",
      "   ncalls  tottime  percall  cumtime  percall filename:lineno(function)\n",
      "        1    0.566    0.566    0.626    0.626 2478890263.py:6(pairwise_distances)\n",
      "  1000000    0.061    0.000    0.061    0.000 {built-in method math.sqrt}\n",
      "        2    0.007    0.003    0.007    0.004 {method '__exit__' of 'sqlite3.Connection' objects}\n",
      "        1    0.000    0.000    0.626    0.626 <string>:1(<module>)\n",
      "        2    0.000    0.000    0.001    0.000 iostream.py:276(<lambda>)\n",
      "        5    0.000    0.000    0.000    0.000 attrsettr.py:66(_get_attr_opt)\n",
      "       14    0.000    0.000    0.000    0.000 socket.py:623(send)\n",
      "        1    0.000    0.000    0.000    0.000 {method 'disable' of '_lsprof.Profiler' objects}\n",
      "       66    0.000    0.000    0.000    0.000 enum.py:1585(_get_value)\n",
      "        1    0.000    0.000    0.008    0.008 history.py:1024(writeout_cache)\n",
      "        2    0.000    0.000    0.000    0.000 {method 'recv' of '_socket.socket' objects}\n",
      "  143/139    0.000    0.000    0.000    0.000 {built-in method builtins.isinstance}\n",
      "       15    0.000    0.000    0.000    0.000 enum.py:1592(__or__)\n",
      "        5    0.000    0.000    0.000    0.000 attrsettr.py:43(__getattr__)\n",
      "        3    0.000    0.000    0.001    0.000 base_events.py:1960(_run_once)\n",
      "      2/1    0.000    0.000    0.000    0.000 {method 'control' of 'select.kqueue' objects}\n",
      "       29    0.000    0.000    0.000    0.000 enum.py:695(__call__)\n",
      "        1    0.000    0.000    0.000    0.000 kernelbase.py:302(poll_control_queue)\n",
      "        1    0.000    0.000    0.000    0.000 {built-in method numpy.zeros}\n",
      "        1    0.000    0.000    0.000    0.000 {method 'send' of '_socket.socket' objects}\n",
      "        2    0.000    0.000    0.000    0.000 socket.py:771(recv_multipart)\n",
      "        2    0.000    0.000    0.000    0.000 socket.py:700(send_multipart)\n",
      "      2/1    0.000    0.000    0.000    0.000 selectors.py:540(select)\n",
      "      4/2    0.000    0.000    0.001    0.000 {method 'run' of '_contextvars.Context' objects}\n",
      "        7    0.000    0.000    0.000    0.000 enum.py:1603(__and__)\n",
      "        2    0.000    0.000    0.000    0.000 traitlets.py:718(_validate)\n",
      "        1    0.000    0.000    0.000    0.000 inspect.py:3120(_bind)\n",
      "       29    0.000    0.000    0.000    0.000 enum.py:1152(__new__)\n",
      "        3    0.000    0.000    0.000    0.000 zmqstream.py:653(_rebuild_io_state)\n",
      "        3    0.000    0.000    0.000    0.000 zmqstream.py:676(_update_handler)\n",
      "        1    0.000    0.000    0.000    0.000 {method 'execute' of 'sqlite3.Connection' objects}\n",
      "        2    0.000    0.000    0.001    0.000 zmqstream.py:573(_handle_events)\n",
      "      4/2    0.000    0.000    0.001    0.000 events.py:87(_run)\n",
      "        1    0.000    0.000    0.000    0.000 _base.py:537(set_result)\n",
      "        3    0.000    0.000    0.000    0.000 events.py:36(__init__)\n",
      "        3    0.000    0.000    0.000    0.000 base_events.py:852(_call_soon)\n",
      "        3    0.000    0.000    0.000    0.000 threading.py:303(__enter__)\n",
      "        1    0.000    0.000    0.000    0.000 queues.py:209(put_nowait)\n",
      "        1    0.000    0.000    0.000    0.000 decorator.py:200(fix)\n",
      "        1    0.000    0.000    0.000    0.000 queues.py:225(get)\n",
      "        3    0.000    0.000    0.000    0.000 queue.py:115(empty)\n",
      "        5    0.000    0.000    0.000    0.000 <frozen importlib._bootstrap>:1390(_handle_fromlist)\n",
      "        2    0.000    0.000    0.000    0.000 queues.py:322(_consume_expired)\n",
      "        1    0.000    0.000    0.000    0.000 inspect.py:3259(bind)\n",
      "        1    0.000    0.000    0.000    0.000 traitlets.py:1527(_notify_observers)\n",
      "        2    0.000    0.000    0.001    0.000 iostream.py:157(_handle_event)\n",
      "        6    0.000    0.000    0.000    0.000 typing.py:426(inner)\n",
      "       10    0.000    0.000    0.000    0.000 {built-in method builtins.hasattr}\n",
      "        1    0.000    0.000    0.000    0.000 asyncio.py:231(add_callback)\n",
      "        2    0.000    0.000    0.000    0.000 iostream.py:278(_really_send)\n",
      "        1    0.000    0.000    0.000    0.000 selector_events.py:129(_read_from_self)\n",
      "        4    0.000    0.000    0.000    0.000 base_events.py:772(time)\n",
      "        2    0.000    0.000    0.000    0.000 traitlets.py:3474(validate)\n",
      "        4    0.000    0.000    0.000    0.000 traitlets.py:676(__get__)\n",
      "        2    0.000    0.000    0.000    0.000 traitlets.py:3631(set)\n",
      "        2    0.000    0.000    0.001    0.000 zmqstream.py:546(_run_callback)\n",
      "        2    0.000    0.000    0.000    0.000 traitlets.py:689(set)\n",
      "        6    0.000    0.000    0.000    0.000 {built-in method builtins.getattr}\n",
      "        1    0.000    0.000    0.000    0.000 inspect.py:2934(apply_defaults)\n",
      "       17    0.000    0.000    0.000    0.000 {built-in method builtins.len}\n",
      "        1    0.000    0.000    0.000    0.000 queues.py:186(put)\n",
      "        1    0.000    0.000    0.626    0.626 {built-in method builtins.exec}\n",
      "        1    0.000    0.000    0.001    0.001 asyncio.py:206(_handle_events)\n",
      "        2    0.000    0.000    0.000    0.000 traitlets.py:727(_cross_validate)\n",
      "        2    0.000    0.000    0.000    0.000 typing.py:1665(__subclasscheck__)\n",
      "        2    0.000    0.000    0.000    0.000 traitlets.py:3624(validate_elements)\n",
      "        8    0.000    0.000    0.000    0.000 {built-in method builtins.next}\n",
      "        2    0.000    0.000    0.000    0.000 {built-in method _abc._abc_subclasscheck}\n",
      "        1    0.000    0.000    0.000    0.000 futures.py:391(_call_set_state)\n",
      "        7    0.000    0.000    0.000    0.000 {method 'append' of 'collections.deque' objects}\n",
      "        1    0.000    0.000    0.000    0.000 traitlets.py:1512(_notify_trait)\n",
      "        8    0.000    0.000    0.000    0.000 {method 'popleft' of 'collections.deque' objects}\n",
      "        2    0.000    0.000    0.001    0.000 zmqstream.py:614(_handle_recv)\n",
      "        3    0.000    0.000    0.000    0.000 selector_events.py:740(_process_events)\n",
      "        1    0.000    0.000    0.000    0.000 inspect.py:2881(args)\n",
      "        4    0.000    0.000    0.000    0.000 typing.py:1443(__hash__)\n",
      "        2    0.000    0.000    0.000    0.000 base_events.py:823(call_soon)\n",
      "        1    0.000    0.000    0.007    0.007 history.py:1008(_writeout_input_cache)\n",
      "        1    0.000    0.000    0.000    0.000 threading.py:428(notify_all)\n",
      "        2    0.000    0.000    0.000    0.000 traitlets.py:708(__set__)\n",
      "        3    0.000    0.000    0.000    0.000 zmqstream.py:532(sending)\n",
      "        1    0.000    0.000    0.000    0.000 _base.py:337(_invoke_callbacks)\n",
      "        1    0.000    0.000    0.000    0.000 traitlets.py:1523(notify_change)\n",
      "        3    0.000    0.000    0.000    0.000 threading.py:306(__exit__)\n",
      "        1    0.000    0.000    0.000    0.000 selector_events.py:141(_write_to_self)\n",
      "        2    0.000    0.000    0.000    0.000 typing.py:1374(__instancecheck__)\n",
      "        1    0.000    0.000    0.008    0.008 decorator.py:232(fun)\n",
      "        1    0.000    0.000    0.000    0.000 queues.py:256(get_nowait)\n",
      "        4    0.000    0.000    0.000    0.000 traitlets.py:629(get)\n",
      "        1    0.000    0.000    0.000    0.000 base_events.py:876(call_soon_threadsafe)\n",
      "        2    0.000    0.000    0.000    0.000 traitlets.py:2304(validate)\n",
      "        2    0.000    0.000    0.000    0.000 <frozen abc>:121(__subclasscheck__)\n",
      "        1    0.000    0.000    0.000    0.000 threading.py:315(_acquire_restore)\n",
      "        1    0.000    0.000    0.000    0.000 concurrent.py:185(future_set_result_unless_cancelled)\n",
      "       20    0.000    0.000    0.000    0.000 typing.py:2371(cast)\n",
      "        2    0.000    0.000    0.000    0.000 iostream.py:213(_is_master_process)\n",
      "        2    0.000    0.000    0.000    0.000 {built-in method builtins.issubclass}\n",
      "        1    0.000    0.000    0.000    0.000 contextlib.py:136(__enter__)\n",
      "        5    0.000    0.000    0.000    0.000 {method 'upper' of 'str' objects}\n",
      "        2    0.000    0.000    0.000    0.000 {method 'set_result' of '_asyncio.Future' objects}\n",
      "        1    0.000    0.000    0.000    0.000 threading.py:398(notify)\n",
      "        7    0.000    0.000    0.000    0.000 {method '__exit__' of '_thread.lock' objects}\n",
      "        1    0.000    0.000    0.008    0.008 history.py:92(only_when_enabled)\n",
      "        1    0.000    0.000    0.000    0.000 contextlib.py:303(helper)\n",
      "        5    0.000    0.000    0.000    0.000 {method 'get' of 'dict' objects}\n",
      "        1    0.000    0.000    0.000    0.000 inspect.py:2904(kwargs)\n",
      "        3    0.000    0.000    0.000    0.000 queue.py:267(_qsize)\n",
      "        1    0.000    0.000    0.000    0.000 queues.py:312(_put)\n",
      "       10    0.000    0.000    0.000    0.000 inspect.py:2791(kind)\n",
      "        1    0.000    0.000    0.000    0.000 contextlib.py:108(__init__)\n",
      "        4    0.000    0.000    0.000    0.000 {built-in method time.monotonic}\n",
      "        2    0.000    0.000    0.000    0.000 {built-in method _contextvars.copy_context}\n",
      "        1    0.000    0.000    0.000    0.000 history.py:1016(_writeout_output_cache)\n",
      "        2    0.000    0.000    0.000    0.000 iostream.py:216(_check_mp_mode)\n",
      "        5    0.000    0.000    0.000    0.000 {method 'append' of 'list' objects}\n",
      "        1    0.000    0.000    0.000    0.000 {method '__enter__' of '_thread.RLock' objects}\n",
      "        5    0.000    0.000    0.000    0.000 zmqstream.py:528(receiving)\n",
      "        1    0.000    0.000    0.000    0.000 threading.py:631(clear)\n",
      "        1    0.000    0.000    0.000    0.000 queues.py:317(__put_internal)\n",
      "        1    0.000    0.000    0.000    0.000 contextlib.py:145(__exit__)\n",
      "        1    0.000    0.000    0.000    0.000 ioloop.py:750(_run_callback)\n",
      "        3    0.000    0.000    0.000    0.000 {method 'acquire' of '_thread.lock' objects}\n",
      "        3    0.000    0.000    0.000    0.000 {built-in method builtins.max}\n",
      "        2    0.000    0.000    0.000    0.000 traitlets.py:3486(validate_elements)\n",
      "        1    0.000    0.000    0.000    0.000 threading.py:312(_release_save)\n",
      "        1    0.000    0.000    0.000    0.000 {method 'values' of 'mappingproxy' objects}\n",
      "        2    0.000    0.000    0.000    0.000 {method 'extend' of 'list' objects}\n",
      "        5    0.000    0.000    0.000    0.000 base_events.py:2058(get_debug)\n",
      "        3    0.000    0.000    0.000    0.000 {method 'items' of 'mappingproxy' objects}\n",
      "        1    0.000    0.000    0.000    0.000 base_events.py:1945(_add_callback)\n",
      "        3    0.000    0.000    0.000    0.000 base_events.py:554(_check_closed)\n",
      "        2    0.000    0.000    0.000    0.000 {method '__enter__' of '_thread.lock' objects}\n",
      "        4    0.000    0.000    0.000    0.000 inspect.py:2779(name)\n",
      "        4    0.000    0.000    0.000    0.000 {built-in method builtins.hash}\n",
      "        1    0.000    0.000    0.000    0.000 zmqstream.py:684(<lambda>)\n",
      "        1    0.000    0.000    0.000    0.000 queues.py:173(qsize)\n",
      "        2    0.000    0.000    0.000    0.000 iostream.py:255(closed)\n",
      "        2    0.000    0.000    0.000    0.000 history.py:1065(hold)\n",
      "        2    0.000    0.000    0.000    0.000 {built-in method posix.getpid}\n",
      "        2    0.000    0.000    0.000    0.000 {method 'cancelled' of '_asyncio.Future' objects}\n",
      "        4    0.000    0.000    0.000    0.000 inspect.py:3074(parameters)\n",
      "        1    0.000    0.000    0.000    0.000 inspect.py:2873(__init__)\n",
      "        1    0.000    0.000    0.000    0.000 threading.py:318(_is_owned)\n",
      "        1    0.000    0.000    0.000    0.000 unix_events.py:83(_process_self_data)\n",
      "        2    0.000    0.000    0.000    0.000 {built-in method builtins.iter}\n",
      "        1    0.000    0.000    0.000    0.000 {method 'done' of '_asyncio.Future' objects}\n",
      "        1    0.000    0.000    0.000    0.000 {method '_is_owned' of '_thread.RLock' objects}\n",
      "        1    0.000    0.000    0.000    0.000 queues.py:309(_get)\n",
      "        1    0.000    0.000    0.000    0.000 {method '__exit__' of '_thread.RLock' objects}\n",
      "        1    0.000    0.000    0.000    0.000 {built-in method _asyncio.get_running_loop}\n",
      "        1    0.000    0.000    0.000    0.000 {built-in method _thread.allocate_lock}\n",
      "        1    0.000    0.000    0.000    0.000 {method 'release' of '_thread.lock' objects}\n",
      "        1    0.000    0.000    0.000    0.000 locks.py:224(clear)\n",
      "        1    0.000    0.000    0.000    0.000 queues.py:59(_set_timeout)\n",
      "        1    0.000    0.000    0.000    0.000 queues.py:177(empty)\n",
      "        1    0.000    0.000    0.000    0.000 base_events.py:758(is_closed)"
     ]
    }
   ],
   "source": [
    "%prun pairwise_distances(points)"
   ]
  },
  {
   "cell_type": "code",
   "execution_count": 16,
   "id": "cd80d8f8",
   "metadata": {},
   "outputs": [],
   "source": [
    "%load_ext line_profiler"
   ]
  },
  {
   "cell_type": "code",
   "execution_count": 17,
   "id": "9ba910e8",
   "metadata": {},
   "outputs": [
    {
     "name": "stdout",
     "output_type": "stream",
     "text": [
      "Timer unit: 1e-09 s\n",
      "\n",
      "Total time: 0.703022 s\n",
      "File: /var/folders/_g/qmpy73s53td4zg6jqd4y__yr0000gq/T/ipykernel_33512/2478890263.py\n",
      "Function: pairwise_distances at line 6\n",
      "\n",
      "Line #      Hits         Time  Per Hit   % Time  Line Contents\n",
      "==============================================================\n",
      "     6                                           @profile\n",
      "     7                                           def pairwise_distances(points):\n",
      "     8         1       5000.0   5000.0      0.0    n = len(points)\n",
      "     9         1    1863000.0    2e+06      0.3    distances = np.zeros((n, n))\n",
      "    10      1001     108000.0    107.9      0.0    for i in range(n):\n",
      "    11   1001000  102769000.0    102.7     14.6        for j in range(n):\n",
      "    12   1000000  598276000.0    598.3     85.1            distances[i, j] = sqrt((points[i, 0] - points[j, 0]) ** 2 + (points[i, 1] - points[j, 1]) ** 2)\n",
      "    13         1       1000.0   1000.0      0.0    return distances"
     ]
    }
   ],
   "source": [
    "%lprun -f pairwise_distances pairwise_distances(points)"
   ]
  },
  {
   "cell_type": "code",
   "execution_count": 20,
   "id": "2949bd50",
   "metadata": {},
   "outputs": [
    {
     "ename": "NameError",
     "evalue": "name 'a' is not defined",
     "output_type": "error",
     "traceback": [
      "\u001b[31m---------------------------------------------------------------------------\u001b[39m",
      "\u001b[31mNameError\u001b[39m                                 Traceback (most recent call last)",
      "\u001b[36mCell\u001b[39m\u001b[36m \u001b[39m\u001b[32mIn[20]\u001b[39m\u001b[32m, line 8\u001b[39m\n\u001b[32m      5\u001b[39m     diffs = x - y\n\u001b[32m      6\u001b[39m     \u001b[38;5;28;01mreturn\u001b[39;00m np.sqrt(np.sum(diffs**\u001b[32m2\u001b[39m, axis = -\u001b[32m1\u001b[39m))\n\u001b[32m----> \u001b[39m\u001b[32m8\u001b[39m \u001b[38;5;28;01mif\u001b[39;00m \u001b[43ma\u001b[49m.all(vectorized_pairwise_distances(points) == pairwise_distances(points)):\n\u001b[32m      9\u001b[39m     \u001b[38;5;28mprint\u001b[39m(\u001b[33m\"\u001b[39m\u001b[33mBoth functions yield the same result!\u001b[39m\u001b[33m\"\u001b[39m)\n",
      "\u001b[31mNameError\u001b[39m: name 'a' is not defined"
     ]
    }
   ],
   "source": [
    "# Vectorized operations with NumPy\n",
    "def vectorized_pairwise_distances(points):\n",
    "    x = points[:, 0][:, np.newaxis]\n",
    "    y = points[:, 1][:, np.newaxis]\n",
    "    diffs = x - y\n",
    "    return np.sqrt(np.sum(diffs**2, axis = -1))\n",
    "\n",
    "if a.all(vectorized_pairwise_distances(points) == pairwise_distances(points)):\n",
    "    print(\"Both functions yield the same result!\")\n"
   ]
  },
  {
   "cell_type": "code",
   "execution_count": null,
   "id": "8b426e1c",
   "metadata": {},
   "outputs": [],
   "source": [
    "%timeit vectorized_pairwise_distances(points)\n",
    "%lprun -f vectorized_pairwise_distances vectorized_pairwise_distances(points)"
   ]
  },
  {
   "cell_type": "markdown",
   "id": "c8d4fb6a",
   "metadata": {},
   "source": [
    "#### Vectorize the code, and verify it produces the same output. Is it faster? How much faster?"
   ]
  },
  {
   "cell_type": "code",
   "execution_count": null,
   "id": "b8636f5c",
   "metadata": {},
   "outputs": [],
   "source": []
  },
  {
   "cell_type": "markdown",
   "id": "aef054aa",
   "metadata": {},
   "source": [
    "The following code, which calculates \\pi using Monte Carlo integration, is provided. Answer the following questions:\n",
    "1. Is it correct?\n",
    "2. How long does it take to run?\n",
    "3. Are there any bottlenecks?\n",
    "\n",
    "Then vectorize the code, verify the outputs, and measure any speedup."
   ]
  },
  {
   "cell_type": "code",
   "execution_count": 1,
   "id": "ff424d70",
   "metadata": {},
   "outputs": [],
   "source": [
    "import random\n",
    "\n",
    "def monte_carlo_pi(num_samples):\n",
    "    inside_circle = 0\n",
    "    for _ in range(num_samples):\n",
    "        x, y = random.uniform(-1, 1), random.uniform(-1, 1)\n",
    "        if x**2 + y**2 <= 1:\n",
    "            inside_circle += 1\n",
    "    return (inside_circle / num_samples) * 4"
   ]
  },
  {
   "cell_type": "code",
   "execution_count": 2,
   "id": "80636450",
   "metadata": {},
   "outputs": [
    {
     "name": "stdout",
     "output_type": "stream",
     "text": [
      "306 ms ± 3.51 ms per loop (mean ± std. dev. of 7 runs, 1 loop each)\n"
     ]
    }
   ],
   "source": [
    "%timeit monte_carlo_pi(1_000_000)"
   ]
  },
  {
   "cell_type": "code",
   "execution_count": 8,
   "id": "0668bdc8",
   "metadata": {},
   "outputs": [],
   "source": [
    "def monte_carlo_pi_numpy(num_samples):\n",
    "  x, y = np.random.uniform(-1, 1, (2, num_samples))\n",
    "  pi = 4 * np.mean(x**2 + y**2 <= 1)\n",
    "  return pi\n"
   ]
  },
  {
   "cell_type": "code",
   "execution_count": 9,
   "id": "8f8c4dd1",
   "metadata": {},
   "outputs": [
    {
     "name": "stdout",
     "output_type": "stream",
     "text": [
      "10.7 ms ± 125 μs per loop (mean ± std. dev. of 7 runs, 100 loops each)\n"
     ]
    }
   ],
   "source": [
    "%timeit monte_carlo_pi_numpy(1_000_000)"
   ]
  },
  {
   "cell_type": "markdown",
   "id": "c193e991",
   "metadata": {},
   "source": [
    "## Memoization\n",
    "Memoization is a technique to cache results when they're calculated so they can be quickly retrieved when the same input is called. It avoids expensive computation of the same results again and again.\n",
    "\n",
    "We can implement a cache ourselves using basic Python, using a simple dictionary. "
   ]
  },
  {
   "cell_type": "code",
   "execution_count": null,
   "id": "7fa41eff",
   "metadata": {},
   "outputs": [],
   "source": [
    "cache = {}\n",
    "def fib_cache(n):\n",
    "    if n in cache:\n",
    "        return cache[n]\n",
    "    if n < 2:\n",
    "        result = n\n",
    "    else:\n",
    "        result = fib(n-1) + fib(n-2)\n",
    "    cache[n] = result\n",
    "    return result\n"
   ]
  },
  {
   "cell_type": "markdown",
   "id": "8dda679b",
   "metadata": {},
   "source": [
    "We can also use the `functools` module, which comes with Python and provides the function decorator `@lru_cache`. LRU stands for Least Recently Used - when the cache hits its size limit it removes the least recently used data to make room for the new data. "
   ]
  },
  {
   "cell_type": "code",
   "execution_count": null,
   "id": "25eac273",
   "metadata": {},
   "outputs": [],
   "source": [
    "from functools import lru_cache\n",
    "\n",
    "@lru_cache(maxsize=None)\n",
    "def fib_lru(n):\n",
    "    if n < 2:\n",
    "        return n\n",
    "    return fib(n-1) + fib(n-2)"
   ]
  }
 ],
 "metadata": {
  "kernelspec": {
   "display_name": "venv",
   "language": "python",
   "name": "python3"
  },
  "language_info": {
   "codemirror_mode": {
    "name": "ipython",
    "version": 3
   },
   "file_extension": ".py",
   "mimetype": "text/x-python",
   "name": "python",
   "nbconvert_exporter": "python",
   "pygments_lexer": "ipython3",
   "version": "3.13.2"
  }
 },
 "nbformat": 4,
 "nbformat_minor": 5
}
