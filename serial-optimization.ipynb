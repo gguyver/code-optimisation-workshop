{
 "cells": [
  {
   "cell_type": "markdown",
   "id": "8ec6f130",
   "metadata": {},
   "source": [
    "# Serial Optimization\n",
    "How do you optimise serial code? There are two main techniques that are easy go-to's for serial optimization in Python: \n",
    "1. Vectorization\n",
    "2. Memoization\n",
    "\n",
    "## Vectorization\n",
    "Because Python is an interpreted language - i.e. each line is dispatched to an interpreter program to interpret and execute - there can be a lot of overhead compared to compiled programs. Python needs to check variable types and use the correct functions for the inputs, because these are not necessarily specified. As a result, when you're using Python for large datasets or for long loops, it can pay to implement vectorization.\n",
    "\n",
    "Vectorization essentially uses compiled versions of the loop or functions. There is therefore much less overhead per operation, providing large speedups. As an added benefit, they can use Single Instruction, Multiple Data (SIMD) instructions - these allow the same instruction to be performed on multiple cells of data simultaneously, providing an even greater speedup.\n",
    "\n",
    "Consider the following examples. The first uses base Python to generate a list of integers using a for loop. The second does the same, but uses `numpy` to vectorize the calculation. The %%timeit readouts show a large speed increase in the second example."
   ]
  },
  {
   "cell_type": "code",
   "execution_count": 45,
   "id": "20a127ea",
   "metadata": {},
   "outputs": [],
   "source": [
    "def double_ints():\n",
    "  result = []\n",
    "  for x in range(1_000_000):\n",
    "    result.append(x * 2)\n",
    "  return result\n"
   ]
  },
  {
   "cell_type": "code",
   "execution_count": 46,
   "id": "5d8c0a08",
   "metadata": {},
   "outputs": [
    {
     "name": "stdout",
     "output_type": "stream",
     "text": [
      "36.2 ms ± 711 μs per loop (mean ± std. dev. of 7 runs, 10 loops each)\n"
     ]
    }
   ],
   "source": [
    "%timeit double_ints()"
   ]
  },
  {
   "cell_type": "code",
   "execution_count": 6,
   "id": "7e887ef1",
   "metadata": {},
   "outputs": [],
   "source": [
    "import numpy as np"
   ]
  },
  {
   "cell_type": "code",
   "execution_count": 47,
   "id": "263669b4",
   "metadata": {},
   "outputs": [],
   "source": [
    "def np_double_ints():\n",
    "  ints = np.arange(1_000_000)\n",
    "  return ints * 2"
   ]
  },
  {
   "cell_type": "code",
   "execution_count": 48,
   "id": "f8b59c6d",
   "metadata": {},
   "outputs": [],
   "source": [
    "assert double_ints() == np_double_ints().tolist(), \"Results do not match!\""
   ]
  },
  {
   "cell_type": "code",
   "execution_count": 49,
   "id": "f9c12b96",
   "metadata": {},
   "outputs": [
    {
     "name": "stdout",
     "output_type": "stream",
     "text": [
      "1.72 ms ± 28.8 μs per loop (mean ± std. dev. of 7 runs, 1,000 loops each)\n"
     ]
    }
   ],
   "source": [
    "%timeit np_double_ints()"
   ]
  },
  {
   "cell_type": "markdown",
   "id": "0b5f804c",
   "metadata": {},
   "source": [
    "We see a large speed increase in the second example, which uses `numpy` to vectorize the calculation."
   ]
  },
  {
   "cell_type": "markdown",
   "id": "aef054aa",
   "metadata": {},
   "source": [
    "The following code, which calculates pi using Monte Carlo integration, is provided. Answer the following questions:\n",
    "1. Is it correct?\n",
    "2. How long does it take to run?\n",
    "3. Are there any bottlenecks?\n",
    "\n",
    "Then:\n",
    "1. Vectorize the code,\n",
    "2. Verify the outputs\n",
    "3. Measure any speedup."
   ]
  },
  {
   "cell_type": "code",
   "execution_count": 1,
   "id": "ff424d70",
   "metadata": {},
   "outputs": [],
   "source": [
    "import random\n",
    "\n",
    "def monte_carlo_pi(num_samples):\n",
    "    inside_circle = 0\n",
    "    for _ in range(num_samples):\n",
    "        x, y = random.uniform(-1, 1), random.uniform(-1, 1)\n",
    "        if x**2 + y**2 <= 1:\n",
    "            inside_circle += 1\n",
    "    return (inside_circle / num_samples) * 4"
   ]
  },
  {
   "cell_type": "code",
   "execution_count": 2,
   "id": "80636450",
   "metadata": {},
   "outputs": [
    {
     "name": "stdout",
     "output_type": "stream",
     "text": [
      "306 ms ± 3.51 ms per loop (mean ± std. dev. of 7 runs, 1 loop each)\n"
     ]
    }
   ],
   "source": [
    "%timeit monte_carlo_pi(1_000_000)"
   ]
  },
  {
   "cell_type": "code",
   "execution_count": 50,
   "id": "827b4c53",
   "metadata": {},
   "outputs": [
    {
     "name": "stdout",
     "output_type": "stream",
     "text": [
      " "
     ]
    },
    {
     "name": "stdout",
     "output_type": "stream",
     "text": [
      "         4000517 function calls (4000510 primitive calls) in 0.885 seconds\n",
      "\n",
      "   Ordered by: internal time\n",
      "\n",
      "   ncalls  tottime  percall  cumtime  percall filename:lineno(function)\n",
      "  2000000    0.373    0.000    0.532    0.000 random.py:498(uniform)\n",
      "        1    0.309    0.309    0.776    0.776 3916854312.py:3(monte_carlo_pi)\n",
      "  2000000    0.160    0.000    0.160    0.000 {method 'random' of '_random.Random' objects}\n",
      "       13    0.027    0.002    0.067    0.005 socket.py:623(send)\n",
      "        1    0.006    0.006    0.019    0.019 decorator.py:232(fun)\n",
      "        1    0.003    0.003    0.006    0.006 {method 'execute' of 'sqlite3.Connection' objects}\n",
      "        1    0.003    0.003    0.006    0.006 history.py:1008(_writeout_input_cache)\n",
      "      1/0    0.003    0.003    0.000          {method 'control' of 'select.kqueue' objects}\n",
      "        1    0.002    0.002    0.006    0.006 socket.py:700(send_multipart)\n",
      "        3    0.000    0.000    0.000    0.000 attrsettr.py:66(_get_attr_opt)\n",
      "        1    0.000    0.000    0.000    0.000 {method 'disable' of '_lsprof.Profiler' objects}\n",
      "       13    0.000    0.000    0.000    0.000 enum.py:1592(__or__)\n",
      "       54    0.000    0.000    0.000    0.000 enum.py:1585(_get_value)\n",
      "  114/110    0.000    0.000    0.000    0.000 {built-in method builtins.isinstance}\n",
      "       22    0.000    0.000    0.000    0.000 enum.py:695(__call__)\n",
      "        2    0.000    0.000    0.000    0.000 {method '__exit__' of 'sqlite3.Connection' objects}\n",
      "        1    0.000    0.000    0.043    0.043 iostream.py:278(_really_send)\n",
      "        3    0.000    0.000    0.000    0.000 attrsettr.py:43(__getattr__)\n",
      "        1    0.000    0.000    0.013    0.013 history.py:1024(writeout_cache)\n",
      "        5    0.000    0.000    0.000    0.000 enum.py:1603(__and__)\n",
      "        1    0.000    0.000    0.000    0.000 {method 'send' of '_socket.socket' objects}\n",
      "        1    0.000    0.000    0.000    0.000 inspect.py:3120(_bind)\n",
      "        1    0.000    0.000    0.000    0.000 kernelbase.py:302(poll_control_queue)\n",
      "       22    0.000    0.000    0.000    0.000 enum.py:1152(__new__)\n",
      "        2    0.000    0.000    0.000    0.000 zmqstream.py:676(_update_handler)\n",
      "        1    0.000    0.000    0.000    0.000 socket.py:771(recv_multipart)\n",
      "        1    0.000    0.000    0.000    0.000 asyncio.py:231(add_callback)\n",
      "        1    0.000    0.000    0.000    0.000 queues.py:225(get)\n",
      "        1    0.000    0.000    0.000    0.000 traitlets.py:1527(_notify_observers)\n",
      "        2    0.000    0.000    0.000    0.000 zmqstream.py:653(_rebuild_io_state)\n",
      "        2    0.000    0.000    0.043    0.021 {method 'run' of '_contextvars.Context' objects}\n",
      "        3    0.000    0.000    0.000    0.000 base_events.py:772(time)\n",
      "        2    0.000    0.000    0.000    0.000 traitlets.py:3631(set)\n",
      "        2    0.000    0.000    0.000    0.000 traitlets.py:718(_validate)\n",
      "        1    0.000    0.000    0.000    0.000 _base.py:537(set_result)\n",
      "        2    0.000    0.000    0.000    0.000 base_events.py:852(_call_soon)\n",
      "        2    0.000    0.000    0.043    0.021 events.py:87(_run)\n",
      "        1    0.000    0.000    0.000    0.000 decorator.py:200(fix)\n",
      "        1    0.000    0.000    0.000    0.000 threading.py:315(_acquire_restore)\n",
      "        1    0.000    0.000    0.000    0.000 inspect.py:3259(bind)\n",
      "        3    0.000    0.000    0.000    0.000 typing.py:426(inner)\n",
      "        1    0.000    0.000    0.043    0.043 zmqstream.py:546(_run_callback)\n",
      "        4    0.000    0.000    0.000    0.000 traitlets.py:676(__get__)\n",
      "        1    0.000    0.000    0.043    0.043 zmqstream.py:573(_handle_events)\n",
      "        8    0.000    0.000    0.000    0.000 {built-in method builtins.hasattr}\n",
      "        2    0.000    0.000    0.000    0.000 typing.py:1665(__subclasscheck__)\n",
      "        8    0.000    0.000    0.000    0.000 {built-in method builtins.next}\n",
      "        2    0.000    0.000    0.000    0.000 traitlets.py:689(set)\n",
      "        4    0.000    0.000    0.000    0.000 {built-in method builtins.getattr}\n",
      "        1    0.000    0.000    0.000    0.000 inspect.py:2934(apply_defaults)\n",
      "      1/0    0.000    0.000    0.000          selectors.py:540(select)\n",
      "        2    0.000    0.000    0.000    0.000 events.py:36(__init__)\n",
      "        2    0.000    0.000    0.000    0.000 traitlets.py:3474(validate)\n",
      "        1    0.000    0.000    0.000    0.000 contextlib.py:108(__init__)\n",
      "        2    0.000    0.000    0.000    0.000 {built-in method _abc._abc_subclasscheck}\n",
      "        1    0.000    0.000    0.043    0.043 iostream.py:276(<lambda>)\n",
      "        2    0.000    0.000    0.000    0.000 traitlets.py:3624(validate_elements)\n",
      "        1    0.000    0.000    0.043    0.043 zmqstream.py:684(<lambda>)\n",
      "        1    0.000    0.000    0.000    0.000 queues.py:256(get_nowait)\n",
      "        2    0.000    0.000    0.000    0.000 queue.py:115(empty)\n",
      "        1    0.000    0.000    0.000    0.000 traitlets.py:1512(_notify_trait)\n",
      "        3    0.000    0.000    0.000    0.000 <frozen importlib._bootstrap>:1390(_handle_fromlist)\n",
      "        1    0.000    0.000    0.000    0.000 inspect.py:2881(args)\n",
      "        1    0.000    0.000    0.000    0.000 futures.py:391(_call_set_state)\n",
      "        3    0.000    0.000    0.000    0.000 threading.py:303(__enter__)\n",
      "        3    0.000    0.000    0.000    0.000 threading.py:306(__exit__)\n",
      "      1/0    0.000    0.000    0.000          base_events.py:1960(_run_once)\n",
      "        1    0.000    0.000    0.776    0.776 <string>:1(<module>)\n",
      "        2    0.000    0.000    0.000    0.000 traitlets.py:727(_cross_validate)\n",
      "       12    0.000    0.000    0.000    0.000 {built-in method builtins.len}\n",
      "        4    0.000    0.000    0.000    0.000 traitlets.py:629(get)\n",
      "        1    0.000    0.000    0.000    0.000 base_events.py:876(call_soon_threadsafe)\n",
      "        1    0.000    0.000    0.000    0.000 threading.py:428(notify_all)\n",
      "        1    0.000    0.000    0.000    0.000 traitlets.py:1523(notify_change)\n",
      "        1    0.000    0.000    0.000    0.000 contextlib.py:303(helper)\n",
      "        2    0.000    0.000    0.000    0.000 typing.py:1374(__instancecheck__)\n",
      "        1    0.000    0.000    0.000    0.000 selector_events.py:141(_write_to_self)\n",
      "        2    0.000    0.000    0.000    0.000 traitlets.py:2304(validate)\n",
      "        2    0.000    0.000    0.000    0.000 <frozen abc>:121(__subclasscheck__)\n",
      "        2    0.000    0.000    0.000    0.000 {built-in method builtins.issubclass}\n",
      "        1    0.000    0.000    0.043    0.043 iostream.py:157(_handle_event)\n",
      "        2    0.000    0.000    0.000    0.000 typing.py:1443(__hash__)\n",
      "        2    0.000    0.000    0.000    0.000 traitlets.py:708(__set__)\n",
      "        1    0.000    0.000    0.000    0.000 _base.py:337(_invoke_callbacks)\n",
      "        2    0.000    0.000    0.000    0.000 zmqstream.py:532(sending)\n",
      "        1    0.000    0.000    0.013    0.013 history.py:92(only_when_enabled)\n",
      "        1    0.000    0.000    0.000    0.000 contextlib.py:145(__exit__)\n",
      "       19    0.000    0.000    0.000    0.000 typing.py:2371(cast)\n",
      "        1    0.000    0.000    0.000    0.000 iostream.py:213(_is_master_process)\n",
      "        4    0.000    0.000    0.000    0.000 {method 'append' of 'collections.deque' objects}\n",
      "        1    0.000    0.000    0.000    0.000 inspect.py:2904(kwargs)\n",
      "        1    0.000    0.000    0.000    0.000 threading.py:398(notify)\n",
      "        6    0.000    0.000    0.000    0.000 {method '__exit__' of '_thread.lock' objects}\n",
      "        1    0.000    0.000    0.000    0.000 contextlib.py:136(__enter__)\n",
      "        1    0.000    0.000    0.000    0.000 history.py:1016(_writeout_output_cache)\n",
      "        2    0.000    0.000    0.000    0.000 {built-in method _contextvars.copy_context}\n",
      "        3    0.000    0.000    0.000    0.000 {method 'acquire' of '_thread.lock' objects}\n",
      "        3    0.000    0.000    0.000    0.000 {method 'popleft' of 'collections.deque' objects}\n",
      "        1    0.000    0.000    0.000    0.000 threading.py:631(clear)\n",
      "        3    0.000    0.000    0.000    0.000 {method 'upper' of 'str' objects}\n",
      "        1    0.000    0.000    0.043    0.043 ioloop.py:750(_run_callback)\n",
      "        4    0.000    0.000    0.000    0.000 {method 'get' of 'dict' objects}\n",
      "        1    0.000    0.000    0.000    0.000 threading.py:312(_release_save)\n",
      "        3    0.000    0.000    0.000    0.000 {method 'items' of 'mappingproxy' objects}\n",
      "        1    0.000    0.000    0.000    0.000 base_events.py:823(call_soon)\n",
      "        4    0.000    0.000    0.000    0.000 {method 'append' of 'list' objects}\n",
      "        1    0.000    0.000    0.000    0.000 {method '__enter__' of '_thread.RLock' objects}\n",
      "        1    0.000    0.000    0.000    0.000 {method 'values' of 'mappingproxy' objects}\n",
      "        1    0.000    0.000    0.043    0.043 zmqstream.py:614(_handle_recv)\n",
      "        2    0.000    0.000    0.000    0.000 traitlets.py:3486(validate_elements)\n",
      "        3    0.000    0.000    0.000    0.000 {built-in method time.monotonic}\n",
      "        3    0.000    0.000    0.000    0.000 zmqstream.py:528(receiving)\n",
      "        2    0.000    0.000    0.000    0.000 {built-in method builtins.max}\n",
      "       10    0.000    0.000    0.000    0.000 inspect.py:2791(kind)\n",
      "        2    0.000    0.000    0.000    0.000 queue.py:267(_qsize)\n",
      "        2    0.000    0.000    0.000    0.000 selector_events.py:740(_process_events)\n",
      "        1    0.000    0.000    0.000    0.000 {built-in method _asyncio.get_running_loop}\n",
      "        1    0.000    0.000    0.000    0.000 iostream.py:216(_check_mp_mode)\n",
      "        2    0.000    0.000    0.000    0.000 {method 'extend' of 'list' objects}\n",
      "        2    0.000    0.000    0.000    0.000 history.py:1065(hold)\n",
      "        1    0.000    0.000    0.000    0.000 queues.py:173(qsize)\n",
      "        2    0.000    0.000    0.000    0.000 {built-in method builtins.iter}\n",
      "        4    0.000    0.000    0.000    0.000 inspect.py:2779(name)\n",
      "        2    0.000    0.000    0.000    0.000 {method '__enter__' of '_thread.lock' objects}\n",
      "        4    0.000    0.000    0.000    0.000 inspect.py:3074(parameters)\n",
      "        1    0.000    0.000    0.000    0.000 threading.py:318(_is_owned)\n",
      "        1    0.000    0.000    0.000    0.000 inspect.py:2873(__init__)\n",
      "        1    0.000    0.000    0.000    0.000 queues.py:322(_consume_expired)\n",
      "        2    0.000    0.000    0.000    0.000 base_events.py:554(_check_closed)\n",
      "        3    0.000    0.000    0.000    0.000 base_events.py:2058(get_debug)\n",
      "        1    0.000    0.000    0.000    0.000 {method '__exit__' of '_thread.RLock' objects}\n",
      "        2    0.000    0.000    0.000    0.000 {built-in method builtins.hash}\n",
      "        1    0.000    0.000    0.000    0.000 {method '_is_owned' of '_thread.RLock' objects}\n",
      "        1    0.000    0.000    0.000    0.000 {built-in method posix.getpid}\n",
      "        1    0.000    0.000    0.000    0.000 {method 'cancelled' of '_asyncio.Future' objects}\n",
      "        1    0.000    0.000    0.000    0.000 {built-in method _thread.allocate_lock}\n",
      "        1    0.000    0.000    0.000    0.000 {method 'release' of '_thread.lock' objects}\n",
      "        1    0.000    0.000    0.000    0.000 base_events.py:758(is_closed)\n",
      "        1    0.000    0.000    0.000    0.000 queues.py:59(_set_timeout)\n",
      "        1    0.000    0.000    0.000    0.000 iostream.py:255(closed)"
     ]
    }
   ],
   "source": [
    "%prun monte_carlo_pi(1_000_000)"
   ]
  },
  {
   "cell_type": "code",
   "execution_count": 8,
   "id": "0668bdc8",
   "metadata": {},
   "outputs": [],
   "source": [
    "def monte_carlo_pi_numpy(num_samples):\n",
    "  x, y = np.random.uniform(-1, 1, (2, num_samples))\n",
    "  pi = 4 * np.mean(x**2 + y**2 <= 1)\n",
    "  return pi\n"
   ]
  },
  {
   "cell_type": "code",
   "execution_count": 9,
   "id": "8f8c4dd1",
   "metadata": {},
   "outputs": [
    {
     "name": "stdout",
     "output_type": "stream",
     "text": [
      "10.7 ms ± 125 μs per loop (mean ± std. dev. of 7 runs, 100 loops each)\n"
     ]
    }
   ],
   "source": [
    "%timeit monte_carlo_pi_numpy(1_000_000)"
   ]
  },
  {
   "cell_type": "markdown",
   "id": "c193e991",
   "metadata": {},
   "source": [
    "## Memoization\n",
    "Memoization is a technique to cache results when they're calculated so they can be quickly retrieved when the same input is called. It avoids expensive computation of the same results again and again.\n",
    "\n",
    "We can implement a cache ourselves using basic Python, using a simple dictionary. "
   ]
  },
  {
   "cell_type": "code",
   "execution_count": null,
   "id": "7fa41eff",
   "metadata": {},
   "outputs": [],
   "source": [
    "cache = {}\n",
    "def fib_cache(n):\n",
    "    if n in cache:\n",
    "        return cache[n]\n",
    "    if n < 2:\n",
    "        result = n\n",
    "    else:\n",
    "        result = fib(n-1) + fib(n-2)\n",
    "    cache[n] = result\n",
    "    return result\n"
   ]
  },
  {
   "cell_type": "markdown",
   "id": "8dda679b",
   "metadata": {},
   "source": [
    "We can also use the `functools` module, which comes with Python and provides the function decorator `@lru_cache`. LRU stands for Least Recently Used - when the cache hits its size limit it removes the least recently used data to make room for the new data. "
   ]
  },
  {
   "cell_type": "code",
   "execution_count": null,
   "id": "25eac273",
   "metadata": {},
   "outputs": [],
   "source": [
    "from functools import lru_cache\n",
    "\n",
    "@lru_cache(maxsize=None)\n",
    "def fib_lru(n):\n",
    "    if n < 2:\n",
    "        return n\n",
    "    return fib(n-1) + fib(n-2)"
   ]
  }
 ],
 "metadata": {
  "kernelspec": {
   "display_name": "venv",
   "language": "python",
   "name": "python3"
  },
  "language_info": {
   "codemirror_mode": {
    "name": "ipython",
    "version": 3
   },
   "file_extension": ".py",
   "mimetype": "text/x-python",
   "name": "python",
   "nbconvert_exporter": "python",
   "pygments_lexer": "ipython3",
   "version": "3.13.2"
  }
 },
 "nbformat": 4,
 "nbformat_minor": 5
}
